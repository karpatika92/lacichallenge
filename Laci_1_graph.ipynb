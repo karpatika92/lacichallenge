{
 "cells": [
  {
   "cell_type": "code",
   "execution_count": 36,
   "metadata": {},
   "outputs": [
    {
     "ename": "SyntaxError",
     "evalue": "invalid syntax (<ipython-input-36-6d98ca132c63>, line 3)",
     "output_type": "error",
     "traceback": [
      "\u001b[1;36m  File \u001b[1;32m\"<ipython-input-36-6d98ca132c63>\"\u001b[1;36m, line \u001b[1;32m3\u001b[0m\n\u001b[1;33m    data = array([1.7, 3.2 ...]) # data can be list or numpy array\u001b[0m\n\u001b[1;37m                            ^\u001b[0m\n\u001b[1;31mSyntaxError\u001b[0m\u001b[1;31m:\u001b[0m invalid syntax\n"
     ]
    }
   ],
   "source": []
  },
  {
   "cell_type": "code",
   "execution_count": 39,
   "metadata": {},
   "outputs": [
    {
     "name": "stdout",
     "output_type": "stream",
     "text": [
      "set([1])\n",
      "LOL2\n",
      "set([1, 2])\n",
      "LOL\n",
      "set([0, 1, 2])\n",
      "LOL2\n",
      "set([0, 1, 2, 3])\n",
      "LOL2\n",
      "set([0, 1, 2, 3, 4])\n",
      "BREAKING\n",
      "set([(3, 0), (4, 3), (0, 2), (2, 1)])\n",
      "LOL\n",
      "(7.1657586559410795, 2.0)\n"
     ]
    },
    {
     "name": "stderr",
     "output_type": "stream",
     "text": [
      "Calculating best minimal value for power law fit\n"
     ]
    }
   ],
   "source": [
    "import numpy as np\n",
    "import powerlaw\n",
    "edges= np.array([[1,2],[0,2],[0,3],[2,3],[3,4],[4,1]])\n",
    "class karpatiGraphSolution:\n",
    "    def __init__(self,edges):\n",
    "        assert type(edges)==np.ndarray, \"input is not an edge list\"\n",
    "        self.edgeList=edges\n",
    "        self.numNodes=np.amax(edges)+1\n",
    "    def give_me_matrix(self):\n",
    "        res=[[0] * self.numNodes for i in range(self.numNodes)]\n",
    "        for edge in self.edgeList:\n",
    "            res[edge[0]][edge[1]]=1\n",
    "            self.adjMat=res\n",
    "        return res\n",
    "    def isConnected(self):\n",
    "        rowSums=np.asarray(self.adjMat).sum(0)\n",
    "        colSums=np.asarray(self.adjMat).sum(1)\n",
    "        print(rowSums)\n",
    "        print(colSums)\n",
    "        total=rowSums+colSums\n",
    "        res=0 not in total\n",
    "        return res\n",
    "    def isStronglyConnected(self):\n",
    "        rowSums=np.asarray(self.adjMat).sum(0)\n",
    "        colSums=np.asarray(self.adjMat).sum(1)\n",
    "        print(rowSums)\n",
    "        print(colSums)\n",
    "        res=0 not in rowSums & 0 not in colSums\n",
    "        return res\n",
    "    def MST(self):\n",
    "        assert self.isConnected, \"Sorry, your graph is not connected\"\n",
    "        treeMST=set()\n",
    "        nodeInMST=set()\n",
    "        nodeInMST.add(self.edgeList[0][0])\n",
    "        print(nodeInMST)\n",
    "        for edge in self.edgeList:\n",
    "                if (edge[1] in nodeInMST and edge[0] not in nodeInMST):\n",
    "                    print(\"LOL\")\n",
    "                    treeMST.add((edge[0],edge[1]))\n",
    "                    nodeInMST.add(edge[0])\n",
    "                    print(nodeInMST)\n",
    "                elif (edge[0] in nodeInMST and edge[1] not in nodeInMST):\n",
    "                    print(\"LOL2\")\n",
    "                    nodeInMST.add(edge[1])\n",
    "                    treeMST.add((edge[1],edge[0]))\n",
    "                    print(nodeInMST)\n",
    "                    #nodeInMST.add(edge[1])\n",
    "                if len(nodeInMST)==self.numNodes:\n",
    "                    print(\"BREAKING\")\n",
    "                    break\n",
    "\n",
    "        return(treeMST)\n",
    "    def fitPowerLaw(self):\n",
    "        #get degree distribution\n",
    "        rowSums=np.asarray(self.adjMat).sum(0)\n",
    "        colSums=np.asarray(self.adjMat).sum(1)\n",
    "        total=rowSums+colSums\n",
    "        results=powerlaw.Fit(total)\n",
    "        print(\"LOL\")\n",
    "        return(results.power_law.alpha,results.power_law.xmin)\n",
    "        \n",
    "sol=karpatiGraphSolution(edges)\n",
    "cucc=sol.give_me_matrix()\n",
    "cucc3=sol.MST()                              \n",
    "print(cucc3)\n",
    "cucc4=sol.fitPowerLaw()\n",
    "print(cucc4)"
   ]
  },
  {
   "cell_type": "code",
   "execution_count": 144,
   "metadata": {},
   "outputs": [
    {
     "name": "stdout",
     "output_type": "stream",
     "text": [
      "3 - Got a true expression value\n",
      "100\n",
      "Good bye!\n"
     ]
    }
   ],
   "source": [
    "var = 100\n",
    "if var == 200:\n",
    "   print \"1 - Got a true expression value\"\n",
    "   print var\n",
    "elif var == 150:\n",
    "   print \"2 - Got a true expression value\"\n",
    "   print var\n",
    "elif var == 100:\n",
    "   print \"3 - Got a true expression value\"\n",
    "   print var\n",
    "else:\n",
    "   print \"4 - Got a false expression value\"\n",
    "   print var\n",
    "\n",
    "print \"Good bye!\"\n"
   ]
  },
  {
   "cell_type": "code",
   "execution_count": null,
   "metadata": {
    "collapsed": true
   },
   "outputs": [],
   "source": []
  },
  {
   "cell_type": "code",
   "execution_count": null,
   "metadata": {
    "collapsed": true
   },
   "outputs": [],
   "source": []
  }
 ],
 "metadata": {
  "kernelspec": {
   "display_name": "Python 2",
   "language": "python",
   "name": "python2"
  },
  "language_info": {
   "codemirror_mode": {
    "name": "ipython",
    "version": 2
   },
   "file_extension": ".py",
   "mimetype": "text/x-python",
   "name": "python",
   "nbconvert_exporter": "python",
   "pygments_lexer": "ipython2",
   "version": "2.7.13"
  }
 },
 "nbformat": 4,
 "nbformat_minor": 2
}
